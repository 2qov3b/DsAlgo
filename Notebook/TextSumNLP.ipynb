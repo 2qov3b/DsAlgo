{
 "cells": [
  {
   "cell_type": "code",
   "execution_count": 39,
   "metadata": {},
   "outputs": [],
   "source": [
    "text = \"\"\"\n",
    "Mnuchin, who last year echoed U.S. president Donald Trump's criticism of bitcoin and cryptocurrencies, told the Senate Finance Committee the U.S. Treasury Department's Financial Crimes Enforcement Network (FinCEN) is preparing \"significant new requirements\" around cryptocurrencies and we'll \"be seeing a lot of work coming out very quickly.\"\n",
    "\n",
    "\"We want to make sure that technology moves forward but, on the other hand, we want to make sure that cryptocurrencies aren't used for the equivalent of old Swiss secret number bank accounts,\" Mnuchin said, adding FinCEN and the Treasury Department more broadly are \"spending a lot of time on this.\"\n",
    "Last year, Mnuchin warned that bitcoin will not be widely used in ten years time and that it could be considered a U.S. national security risk.\n",
    "\n",
    "Meanwhile, adding to the assault on bitcoin and cryptocurrencies coming out of the U.S. this week, Minneapolis Fed president Neel Kashkari said cryptocurrencies lack the basic characteristics of any stable currency.\n",
    "\n",
    "\"The reason that the dollar has value is because the U.S. government has a legal monopoly on producing the dollar,\" said Kashkari, speaking at a Montana event after being asked whether he would want his 1-year-old daughter to be gifted a Treasury bond or a bitcoin for her next birthday.\n",
    "\n",
    "\"In the virtual-currency and cryptocurrency world, there are thousands of these garbage coins out there. Literally, people have been fleeced for tens of billions of dollars, and finally the SEC is getting involved in cracking down on this.\"\n",
    "\n",
    "Elsewhere, Department of Justice prosecutors this week branded bitcoin mixing software, designed to mask the origin of bitcoin transactions, \"money laundering.\"\n",
    "\n",
    "In the indictment of Larry Harmon, who was this week arrested for his alleged involvement in a money-laundering conspiracy worth more than $300 million, the Department of Justice referred to Harmon's Helix software as a \"money transmitting and money laundering business.\"\n",
    "\n",
    "The bitcoin and cryptocurrency regulatory landscape in the U.S. has long been found stifling by the nascent crypto industry—with some choosing to more favourable regions such as Switzerland.\n",
    "\n",
    "\"Everyone in the know is already well aware of Europe’s clear guidance on crypto custody, exchange licensing, rules for issuance of payment, utility and security tokens,\" said blockchain pioneer and managing director of Yeoman’s Capital David Johnston, adding, \"European rules are very clear at this point.\"\n",
    "\n",
    "Social media giant Facebook, which last year revealed it will launch its own cryptocurrency, libra, in 2020, opted to base its independent governing Libra Association in Switzerland.\n",
    "\"\"\""
   ]
  },
  {
   "cell_type": "code",
   "execution_count": 40,
   "metadata": {},
   "outputs": [
    {
     "name": "stdout",
     "output_type": "stream",
     "text": [
      "['\\n', 'Mnuchin', ',', 'who', 'last', 'year', 'echoed', 'U.S.', 'president', 'Donald', 'Trump', \"'s\", 'criticism', 'of', 'bitcoin', 'and', 'cryptocurrencies', ',', 'told', 'the', 'Senate', 'Finance', 'Committee', 'the', 'U.S.', 'Treasury', 'Department', \"'s\", 'Financial', 'Crimes', 'Enforcement', 'Network', '(', 'FinCEN', ')', 'is', 'preparing', '\"', 'significant', 'new', 'requirements', '\"', 'around', 'cryptocurrencies', 'and', 'we', \"'ll\", '\"', 'be', 'seeing', 'a', 'lot', 'of', 'work', 'coming', 'out', 'very', 'quickly', '.', '\"', '\\n\\n', '\"', 'We', 'want', 'to', 'make', 'sure', 'that', 'technology', 'moves', 'forward', 'but', ',', 'on', 'the', 'other', 'hand', ',', 'we', 'want', 'to', 'make', 'sure', 'that', 'cryptocurrencies', 'are', \"n't\", 'used', 'for', 'the', 'equivalent', 'of', 'old', 'Swiss', 'secret', 'number', 'bank', 'accounts', ',', '\"', 'Mnuchin', 'said', ',', 'adding', 'FinCEN', 'and', 'the', 'Treasury', 'Department', 'more', 'broadly', 'are', '\"', 'spending', 'a', 'lot', 'of', 'time', 'on', 'this', '.', '\"', '\\n', 'Last', 'year', ',', 'Mnuchin', 'warned', 'that', 'bitcoin', 'will', 'not', 'be', 'widely', 'used', 'in', 'ten', 'years', 'time', 'and', 'that', 'it', 'could', 'be', 'considered', 'a', 'U.S.', 'national', 'security', 'risk', '.', '\\n\\n', 'Meanwhile', ',', 'adding', 'to', 'the', 'assault', 'on', 'bitcoin', 'and', 'cryptocurrencies', 'coming', 'out', 'of', 'the', 'U.S.', 'this', 'week', ',', 'Minneapolis', 'Fed', 'president', 'Neel', 'Kashkari', 'said', 'cryptocurrencies', 'lack', 'the', 'basic', 'characteristics', 'of', 'any', 'stable', 'currency', '.', '\\n\\n', '\"', 'The', 'reason', 'that', 'the', 'dollar', 'has', 'value', 'is', 'because', 'the', 'U.S.', 'government', 'has', 'a', 'legal', 'monopoly', 'on', 'producing', 'the', 'dollar', ',', '\"', 'said', 'Kashkari', ',', 'speaking', 'at', 'a', 'Montana', 'event', 'after', 'being', 'asked', 'whether', 'he', 'would', 'want', 'his', '1-year', '-', 'old', 'daughter', 'to', 'be', 'gifted', 'a', 'Treasury', 'bond', 'or', 'a', 'bitcoin', 'for', 'her', 'next', 'birthday', '.', '\\n\\n', '\"', 'In', 'the', 'virtual', '-', 'currency', 'and', 'cryptocurrency', 'world', ',', 'there', 'are', 'thousands', 'of', 'these', 'garbage', 'coins', 'out', 'there', '.', 'Literally', ',', 'people', 'have', 'been', 'fleeced', 'for', 'tens', 'of', 'billions', 'of', 'dollars', ',', 'and', 'finally', 'the', 'SEC', 'is', 'getting', 'involved', 'in', 'cracking', 'down', 'on', 'this', '.', '\"', '\\n\\n', 'Elsewhere', ',', 'Department', 'of', 'Justice', 'prosecutors', 'this', 'week', 'branded', 'bitcoin', 'mixing', 'software', ',', 'designed', 'to', 'mask', 'the', 'origin', 'of', 'bitcoin', 'transactions', ',', '\"', 'money', 'laundering', '.', '\"', '\\n\\n', 'In', 'the', 'indictment', 'of', 'Larry', 'Harmon', ',', 'who', 'was', 'this', 'week', 'arrested', 'for', 'his', 'alleged', 'involvement', 'in', 'a', 'money', '-', 'laundering', 'conspiracy', 'worth', 'more', 'than', '$', '300', 'million', ',', 'the', 'Department', 'of', 'Justice', 'referred', 'to', 'Harmon', \"'s\", 'Helix', 'software', 'as', 'a', '\"', 'money', 'transmitting', 'and', 'money', 'laundering', 'business', '.', '\"', '\\n\\n', 'The', 'bitcoin', 'and', 'cryptocurrency', 'regulatory', 'landscape', 'in', 'the', 'U.S.', 'has', 'long', 'been', 'found', 'stifling', 'by', 'the', 'nascent', 'crypto', 'industry', '—', 'with', 'some', 'choosing', 'to', 'more', 'favourable', 'regions', 'such', 'as', 'Switzerland', '.', '\\n\\n', '\"', 'Everyone', 'in', 'the', 'know', 'is', 'already', 'well', 'aware', 'of', 'Europe', '’s', 'clear', 'guidance', 'on', 'crypto', 'custody', ',', 'exchange', 'licensing', ',', 'rules', 'for', 'issuance', 'of', 'payment', ',', 'utility', 'and', 'security', 'tokens', ',', '\"', 'said', 'blockchain', 'pioneer', 'and', 'managing', 'director', 'of', 'Yeoman', '’s', 'Capital', 'David', 'Johnston', ',', 'adding', ',', '\"', 'European', 'rules', 'are', 'very', 'clear', 'at', 'this', 'point', '.', '\"', '\\n\\n', 'Social', 'media', 'giant', 'Facebook', ',', 'which', 'last', 'year', 'revealed', 'it', 'will', 'launch', 'its', 'own', 'cryptocurrency', ',', 'libra', ',', 'in', '2020', ',', 'opted', 'to', 'base', 'its', 'independent', 'governing', 'Libra', 'Association', 'in', 'Switzerland', '.', '\\n']\n",
      "!\"#$%&'()*+,-./:;<=>?@[\\]^_`{|}~\n",
      "\n"
     ]
    }
   ],
   "source": [
    "import spacy\n",
    "from spacy.lang.en.stop_words import STOP_WORDS\n",
    "from string import punctuation\n",
    "\n",
    "stopwords = list(STOP_WORDS)\n",
    "nlp = spacy.load('en_core_web_sm')\n",
    "doc = nlp(text)\n",
    "tokens = [token.text for token in doc]\n",
    "print(tokens)\n",
    "\n",
    "punctuation = punctuation + '\\n'\n",
    "print(punctuation)\n",
    "\n",
    "word_frequencies = {}\n",
    "for word in doc:\n",
    "  if word.text.lower() not in stopwords:\n",
    "    if word.text.lower() not in punctuation:\n",
    "      if word.text not in word_frequencies.keys():\n",
    "        word_frequencies[word.text] = 1\n",
    "      else:\n",
    "        word_frequencies[word.text] += 1"
   ]
  },
  {
   "cell_type": "code",
   "execution_count": 41,
   "metadata": {},
   "outputs": [
    {
     "name": "stdout",
     "output_type": "stream",
     "text": [
      "9\n"
     ]
    }
   ],
   "source": [
    "print(max(word_frequencies.values()))"
   ]
  },
  {
   "cell_type": "code",
   "execution_count": 42,
   "metadata": {},
   "outputs": [],
   "source": [
    "max_frequency = max(word_frequencies.values())\n",
    "for word in word_frequencies.keys():\n",
    "  word_frequencies[word] = word_frequencies[word] / max_frequency"
   ]
  },
  {
   "cell_type": "code",
   "execution_count": 43,
   "metadata": {},
   "outputs": [
    {
     "name": "stdout",
     "output_type": "stream",
     "text": [
      "{'Mnuchin': 0.3333333333333333, 'year': 0.3333333333333333, 'echoed': 0.1111111111111111, 'U.S.': 0.6666666666666666, 'president': 0.2222222222222222, 'Donald': 0.1111111111111111, 'Trump': 0.1111111111111111, 'criticism': 0.1111111111111111, 'bitcoin': 0.7777777777777778, 'cryptocurrencies': 0.5555555555555556, 'told': 0.1111111111111111, 'Senate': 0.1111111111111111, 'Finance': 0.1111111111111111, 'Committee': 0.1111111111111111, 'Treasury': 0.3333333333333333, 'Department': 0.4444444444444444, 'Financial': 0.1111111111111111, 'Crimes': 0.1111111111111111, 'Enforcement': 0.1111111111111111, 'Network': 0.1111111111111111, 'FinCEN': 0.2222222222222222, 'preparing': 0.1111111111111111, 'significant': 0.1111111111111111, 'new': 0.1111111111111111, 'requirements': 0.1111111111111111, 'seeing': 0.1111111111111111, 'lot': 0.2222222222222222, 'work': 0.1111111111111111, 'coming': 0.2222222222222222, 'quickly': 0.1111111111111111, '\\n\\n': 1.0, 'want': 0.3333333333333333, 'sure': 0.2222222222222222, 'technology': 0.1111111111111111, 'moves': 0.1111111111111111, 'forward': 0.1111111111111111, 'hand': 0.1111111111111111, 'equivalent': 0.1111111111111111, 'old': 0.2222222222222222, 'Swiss': 0.1111111111111111, 'secret': 0.1111111111111111, 'number': 0.1111111111111111, 'bank': 0.1111111111111111, 'accounts': 0.1111111111111111, 'said': 0.4444444444444444, 'adding': 0.3333333333333333, 'broadly': 0.1111111111111111, 'spending': 0.1111111111111111, 'time': 0.2222222222222222, 'warned': 0.1111111111111111, 'widely': 0.1111111111111111, 'years': 0.1111111111111111, 'considered': 0.1111111111111111, 'national': 0.1111111111111111, 'security': 0.2222222222222222, 'risk': 0.1111111111111111, 'assault': 0.1111111111111111, 'week': 0.3333333333333333, 'Minneapolis': 0.1111111111111111, 'Fed': 0.1111111111111111, 'Neel': 0.1111111111111111, 'Kashkari': 0.2222222222222222, 'lack': 0.1111111111111111, 'basic': 0.1111111111111111, 'characteristics': 0.1111111111111111, 'stable': 0.1111111111111111, 'currency': 0.2222222222222222, 'reason': 0.1111111111111111, 'dollar': 0.2222222222222222, 'value': 0.1111111111111111, 'government': 0.1111111111111111, 'legal': 0.1111111111111111, 'monopoly': 0.1111111111111111, 'producing': 0.1111111111111111, 'speaking': 0.1111111111111111, 'Montana': 0.1111111111111111, 'event': 0.1111111111111111, 'asked': 0.1111111111111111, '1-year': 0.1111111111111111, 'daughter': 0.1111111111111111, 'gifted': 0.1111111111111111, 'bond': 0.1111111111111111, 'birthday': 0.1111111111111111, 'virtual': 0.1111111111111111, 'cryptocurrency': 0.3333333333333333, 'world': 0.1111111111111111, 'thousands': 0.1111111111111111, 'garbage': 0.1111111111111111, 'coins': 0.1111111111111111, 'Literally': 0.1111111111111111, 'people': 0.1111111111111111, 'fleeced': 0.1111111111111111, 'tens': 0.1111111111111111, 'billions': 0.1111111111111111, 'dollars': 0.1111111111111111, 'finally': 0.1111111111111111, 'SEC': 0.1111111111111111, 'getting': 0.1111111111111111, 'involved': 0.1111111111111111, 'cracking': 0.1111111111111111, 'Justice': 0.2222222222222222, 'prosecutors': 0.1111111111111111, 'branded': 0.1111111111111111, 'mixing': 0.1111111111111111, 'software': 0.2222222222222222, 'designed': 0.1111111111111111, 'mask': 0.1111111111111111, 'origin': 0.1111111111111111, 'transactions': 0.1111111111111111, 'money': 0.4444444444444444, 'laundering': 0.3333333333333333, 'indictment': 0.1111111111111111, 'Larry': 0.1111111111111111, 'Harmon': 0.2222222222222222, 'arrested': 0.1111111111111111, 'alleged': 0.1111111111111111, 'involvement': 0.1111111111111111, 'conspiracy': 0.1111111111111111, 'worth': 0.1111111111111111, '300': 0.1111111111111111, 'million': 0.1111111111111111, 'referred': 0.1111111111111111, 'Helix': 0.1111111111111111, 'transmitting': 0.1111111111111111, 'business': 0.1111111111111111, 'regulatory': 0.1111111111111111, 'landscape': 0.1111111111111111, 'long': 0.1111111111111111, 'found': 0.1111111111111111, 'stifling': 0.1111111111111111, 'nascent': 0.1111111111111111, 'crypto': 0.2222222222222222, 'industry': 0.1111111111111111, '—': 0.1111111111111111, 'choosing': 0.1111111111111111, 'favourable': 0.1111111111111111, 'regions': 0.1111111111111111, 'Switzerland': 0.2222222222222222, 'know': 0.1111111111111111, 'aware': 0.1111111111111111, 'Europe': 0.1111111111111111, 'clear': 0.2222222222222222, 'guidance': 0.1111111111111111, 'custody': 0.1111111111111111, 'exchange': 0.1111111111111111, 'licensing': 0.1111111111111111, 'rules': 0.2222222222222222, 'issuance': 0.1111111111111111, 'payment': 0.1111111111111111, 'utility': 0.1111111111111111, 'tokens': 0.1111111111111111, 'blockchain': 0.1111111111111111, 'pioneer': 0.1111111111111111, 'managing': 0.1111111111111111, 'director': 0.1111111111111111, 'Yeoman': 0.1111111111111111, 'Capital': 0.1111111111111111, 'David': 0.1111111111111111, 'Johnston': 0.1111111111111111, 'European': 0.1111111111111111, 'point': 0.1111111111111111, 'Social': 0.1111111111111111, 'media': 0.1111111111111111, 'giant': 0.1111111111111111, 'Facebook': 0.1111111111111111, 'revealed': 0.1111111111111111, 'launch': 0.1111111111111111, 'libra': 0.1111111111111111, '2020': 0.1111111111111111, 'opted': 0.1111111111111111, 'base': 0.1111111111111111, 'independent': 0.1111111111111111, 'governing': 0.1111111111111111, 'Libra': 0.1111111111111111, 'Association': 0.1111111111111111}\n"
     ]
    }
   ],
   "source": [
    "print(word_frequencies)"
   ]
  },
  {
   "cell_type": "code",
   "execution_count": 44,
   "metadata": {},
   "outputs": [],
   "source": [
    "sentence_tokens = [sent for sent in doc.sents]\n",
    "#print(sentence_tokens)\n",
    "\n",
    "sentence_scores = {}\n",
    "for sent in sentence_tokens:\n",
    "  for word in sent:\n",
    "    if word.text.lower() in word_frequencies.keys():\n",
    "      if sent not in sentence_scores.keys():\n",
    "        sentence_scores[sent] = word_frequencies[word.text.lower()]\n",
    "      else:\n",
    "        sentence_scores[sent] += word_frequencies[word.text.lower()]\n",
    "        \n",
    "#print(sentence_scores)"
   ]
  },
  {
   "cell_type": "code",
   "execution_count": 45,
   "metadata": {},
   "outputs": [],
   "source": [
    "from heapq import nlargest\n",
    "\n",
    "select_length = int(len(sentence_tokens)*0.3) # 30%\n",
    "summary = nlargest(select_length, sentence_scores, key = sentence_scores.get)\n",
    "final_summary = [word.text for word in summary]\n",
    "summary = ' '.join(final_summary)"
   ]
  },
  {
   "cell_type": "code",
   "execution_count": 46,
   "metadata": {},
   "outputs": [
    {
     "data": {
      "text/plain": [
       "'Meanwhile, adding to the assault on bitcoin and cryptocurrencies coming out of the U.S. this week, Minneapolis Fed president Neel Kashkari said cryptocurrencies lack the basic characteristics of any stable currency.\\n\\n \"The reason that the dollar has value is because the U.S. government has a legal monopoly on producing the dollar,\" said Kashkari, speaking at a Montana event after being asked whether he would want his 1-year-old daughter to be gifted a Treasury bond or a bitcoin for her next birthday.\\n\\n \"Everyone in the know is already well aware of Europe’s clear guidance on crypto custody, exchange licensing, rules for issuance of payment, utility and security tokens,\" said blockchain pioneer and managing director of Yeoman’s Capital David Johnston, adding, \"European rules are very clear at this point.\"\\n\\n In the indictment of Larry Harmon, who was this week arrested for his alleged involvement in a money-laundering conspiracy worth more than $300 million, the Department of Justice referred to Harmon\\'s Helix software as a \"money transmitting and money laundering business.\"\\n\\n'"
      ]
     },
     "execution_count": 46,
     "metadata": {},
     "output_type": "execute_result"
    }
   ],
   "source": [
    "summary"
   ]
  },
  {
   "cell_type": "code",
   "execution_count": 47,
   "metadata": {},
   "outputs": [
    {
     "data": {
      "text/plain": [
       "2657"
      ]
     },
     "execution_count": 47,
     "metadata": {},
     "output_type": "execute_result"
    }
   ],
   "source": [
    "len(text)"
   ]
  },
  {
   "cell_type": "code",
   "execution_count": 48,
   "metadata": {},
   "outputs": [
    {
     "data": {
      "text/plain": [
       "1091"
      ]
     },
     "execution_count": 48,
     "metadata": {},
     "output_type": "execute_result"
    }
   ],
   "source": [
    "len(summary)"
   ]
  },
  {
   "cell_type": "code",
   "execution_count": null,
   "metadata": {},
   "outputs": [],
   "source": []
  }
 ],
 "metadata": {
  "kernelspec": {
   "display_name": "Python 3",
   "language": "python",
   "name": "python3"
  },
  "language_info": {
   "codemirror_mode": {
    "name": "ipython",
    "version": 3
   },
   "file_extension": ".py",
   "mimetype": "text/x-python",
   "name": "python",
   "nbconvert_exporter": "python",
   "pygments_lexer": "ipython3",
   "version": "3.7.0"
  }
 },
 "nbformat": 4,
 "nbformat_minor": 2
}
