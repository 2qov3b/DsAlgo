{
 "cells": [
  {
   "cell_type": "code",
   "execution_count": 1,
   "metadata": {},
   "outputs": [],
   "source": [
    "text = \"\"\"\n",
    "Beautiful Soup, so rich and green,\n",
    "Waiting in a hot tureen!\n",
    "Who for such dainties would not stoop?\n",
    "Soup of the evening, beautiful Soup!\n",
    "Soup of the evening, beautiful Soup!\n",
    "Beau--ootiful Soo--oop!\n",
    "Beau--ootiful Soo--oop!\n",
    "Soo--oop of the e--e--evening,\n",
    "Beautiful, beautiful Soup!\n",
    "Beautiful Soup! Who cares for fish,\n",
    "Game or any other dish?\n",
    "Who would not give all else for two\n",
    "Pennyworth only of Beautiful Soup?\n",
    "Pennyworth only of beautiful Soup?\n",
    "Beau--ootiful Soo--oop!\n",
    "Beau--ootiful Soo--oop!\n",
    "Soo--oop of the e--e--evening,\n",
    "Beautiful, beauti--FUL SOUP!\n",
    "\"\"\""
   ]
  },
  {
   "cell_type": "code",
   "execution_count": 3,
   "metadata": {},
   "outputs": [
    {
     "name": "stdout",
     "output_type": "stream",
     "text": [
      "['\\n', 'Beautiful', 'Soup', ',', 'so', 'rich', 'and', 'green', ',', '\\n', 'Waiting', 'in', 'a', 'hot', 'tureen', '!', '\\n', 'Who', 'for', 'such', 'dainties', 'would', 'not', 'stoop', '?', '\\n', 'Soup', 'of', 'the', 'evening', ',', 'beautiful', 'Soup', '!', '\\n', 'Soup', 'of', 'the', 'evening', ',', 'beautiful', 'Soup', '!', '\\n', 'Beau', '--', 'ootiful', 'Soo', '--', 'oop', '!', '\\n', 'Beau', '--', 'ootiful', 'Soo', '--', 'oop', '!', '\\n', 'Soo', '--', 'oop', 'of', 'the', 'e', '--', 'e', '--', 'evening', ',', '\\n', 'Beautiful', ',', 'beautiful', 'Soup', '!', '\\n', 'Beautiful', 'Soup', '!', 'Who', 'cares', 'for', 'fish', ',', '\\n', 'Game', 'or', 'any', 'other', 'dish', '?', '\\n', 'Who', 'would', 'not', 'give', 'all', 'else', 'for', 'two', '\\n', 'Pennyworth', 'only', 'of', 'Beautiful', 'Soup', '?', '\\n', 'Pennyworth', 'only', 'of', 'beautiful', 'Soup', '?', '\\n', 'Beau', '--', 'ootiful', 'Soo', '--', 'oop', '!', '\\n', 'Beau', '--', 'ootiful', 'Soo', '--', 'oop', '!', '\\n', 'Soo', '--', 'oop', 'of', 'the', 'e', '--', 'e', '--', 'evening', ',', '\\n', 'Beautiful', ',', 'beauti', '--', 'FUL', 'SOUP', '!', '\\n']\n",
      "!\"#$%&'()*+,-./:;<=>?@[\\]^_`{|}~\n",
      "\n"
     ]
    }
   ],
   "source": [
    "import spacy\n",
    "from spacy.lang.en.stop_words import STOP_WORDS\n",
    "from string import punctuation\n",
    "\n",
    "stopwords = list(STOP_WORDS)\n",
    "nlp = spacy.load('en_core_web_sm')\n",
    "doc = nlp(text)\n",
    "tokens = [token.text for token in doc]\n",
    "print(tokens)\n",
    "\n",
    "punctuation = punctuation + '\\n'\n",
    "print(punctuation)\n",
    "\n",
    "word_frequencies = {}\n",
    "for word in doc:\n",
    "  if word.text.lower() not in stopwords:\n",
    "    if word.text.lower() not in punctuation:\n",
    "      if word.text not in word_frequencies.keys():\n",
    "        word_frequencies[word.text] = 1\n",
    "      else:\n",
    "        word_frequencies[word.text] += 1"
   ]
  },
  {
   "cell_type": "code",
   "execution_count": 14,
   "metadata": {},
   "outputs": [
    {
     "name": "stdout",
     "output_type": "stream",
     "text": [
      "15\n"
     ]
    }
   ],
   "source": [
    "print(max(word_frequencies.values()))"
   ]
  },
  {
   "cell_type": "code",
   "execution_count": 15,
   "metadata": {},
   "outputs": [],
   "source": [
    "max_frequency = max(word_frequencies.values())\n",
    "for word in word_frequencies.keys():\n",
    "  word_frequencies[word] = word_frequencies[word] / max_frequency"
   ]
  },
  {
   "cell_type": "code",
   "execution_count": 16,
   "metadata": {},
   "outputs": [
    {
     "name": "stdout",
     "output_type": "stream",
     "text": [
      "{'Beautiful': 0.3333333333333333, 'Soup': 0.6, 'rich': 0.06666666666666667, 'green': 0.06666666666666667, 'Waiting': 0.06666666666666667, 'hot': 0.06666666666666667, 'tureen': 0.06666666666666667, 'dainties': 0.06666666666666667, 'stoop': 0.06666666666666667, 'evening': 0.26666666666666666, 'beautiful': 0.26666666666666666, 'Beau': 0.26666666666666666, '--': 1.0, 'ootiful': 0.26666666666666666, 'Soo': 0.4, 'oop': 0.4, 'e': 0.26666666666666666, 'cares': 0.06666666666666667, 'fish': 0.06666666666666667, 'Game': 0.06666666666666667, 'dish': 0.06666666666666667, 'Pennyworth': 0.13333333333333333, 'beauti': 0.06666666666666667, 'FUL': 0.06666666666666667, 'SOUP': 0.06666666666666667}\n"
     ]
    }
   ],
   "source": [
    "print(word_frequencies)"
   ]
  },
  {
   "cell_type": "code",
   "execution_count": 17,
   "metadata": {},
   "outputs": [
    {
     "name": "stdout",
     "output_type": "stream",
     "text": [
      "[\n",
      "Beautiful Soup, so rich and green,\n",
      "Waiting in a hot tureen!\n",
      ", Who for such dainties would not stoop?\n",
      ", Soup of the evening, beautiful Soup!\n",
      ", Soup of the evening, beautiful Soup!\n",
      ", Beau--ootiful Soo--, oop!\n",
      ", Beau--ootiful Soo--, oop!\n",
      ", Soo--oop of the e--e--evening,\n",
      ", Beautiful, beautiful Soup!\n",
      "Beautiful Soup!, Who cares for fish,\n",
      "Game or any other dish?\n",
      ", Who would not give all else for two\n",
      "Pennyworth only of Beautiful Soup?\n",
      ", Pennyworth only of beautiful Soup?\n",
      "Beau--ootiful Soo--, oop!\n",
      ", Beau--ootiful Soo--, oop!\n",
      ", Soo--oop of the e--e--evening,\n",
      "Beautiful, beauti--FUL SOUP!\n",
      "]\n"
     ]
    }
   ],
   "source": [
    "sentence_tokens = [sent for sent in doc.sents]\n",
    "print(sentence_tokens)"
   ]
  },
  {
   "cell_type": "code",
   "execution_count": null,
   "metadata": {},
   "outputs": [],
   "source": []
  }
 ],
 "metadata": {
  "kernelspec": {
   "display_name": "Python 3",
   "language": "python",
   "name": "python3"
  },
  "language_info": {
   "codemirror_mode": {
    "name": "ipython",
    "version": 3
   },
   "file_extension": ".py",
   "mimetype": "text/x-python",
   "name": "python",
   "nbconvert_exporter": "python",
   "pygments_lexer": "ipython3",
   "version": "3.7.0"
  }
 },
 "nbformat": 4,
 "nbformat_minor": 2
}
